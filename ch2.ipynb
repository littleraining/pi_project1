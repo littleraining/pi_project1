{
  "nbformat": 4,
  "nbformat_minor": 0,
  "metadata": {
    "colab": {
      "provenance": [],
      "authorship_tag": "ABX9TyMhGvzoO8EEkScdTpHDH4kF",
      "include_colab_link": true
    },
    "kernelspec": {
      "name": "python3",
      "display_name": "Python 3"
    },
    "language_info": {
      "name": "python"
    }
  },
  "cells": [
    {
      "cell_type": "markdown",
      "metadata": {
        "id": "view-in-github",
        "colab_type": "text"
      },
      "source": [
        "<a href=\"https://colab.research.google.com/github/littleraining/pi_project1/blob/master/ch2.ipynb\" target=\"_parent\"><img src=\"https://colab.research.google.com/assets/colab-badge.svg\" alt=\"Open In Colab\"/></a>"
      ]
    },
    {
      "cell_type": "code",
      "execution_count": 2,
      "metadata": {
        "colab": {
          "base_uri": "https://localhost:8080/"
        },
        "id": "izpWBi742Db1",
        "outputId": "c082b10c-0372-497a-9c9e-ba61e04bf0c0"
      },
      "outputs": [
        {
          "output_type": "stream",
          "name": "stdout",
          "text": [
            "True <class 'bool'>\n",
            "20 <class 'int'>\n",
            "3.14 <class 'float'>\n",
            "Hello <class 'str'>\n"
          ]
        }
      ],
      "source": [
        "b = True\n",
        "print(b, type(b))\n",
        "num = 20\n",
        "print(num,type(num))\n",
        "pi = 3.14\n",
        "print(pi,type(pi))\n",
        "s = 'Hello'\n",
        "print(s,type(s))"
      ]
    }
  ]
}